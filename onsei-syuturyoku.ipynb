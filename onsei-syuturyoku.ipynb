{
 "cells": [
  {
   "cell_type": "code",
   "execution_count": 1,
   "id": "3f2b1497-b057-4be2-b40c-84d84bc25fb9",
   "metadata": {},
   "outputs": [],
   "source": [
    "import os"
   ]
  },
  {
   "cell_type": "code",
   "execution_count": 2,
   "id": "90232f1b-3f8d-4c1a-9cdd-012e39a15b9f",
   "metadata": {},
   "outputs": [],
   "source": [
    "os.environ['GOOGLE_APPLICATION_CREDENTIALS'] = 'secret.json'"
   ]
  },
  {
   "cell_type": "code",
   "execution_count": 3,
   "id": "461f112f-63c7-4db1-a82d-7ed5c1cc3e32",
   "metadata": {},
   "outputs": [
    {
     "name": "stdout",
     "output_type": "stream",
     "text": [
      "\u001b[33mDEPRECATION: Configuring installation scheme with distutils config files is deprecated and will no longer work in the near future. If you are using a Homebrew or Linuxbrew Python, please see discussion at https://github.com/Homebrew/homebrew-core/issues/76621\u001b[0m\n",
      "\u001b[31mERROR: Could not find a version that satisfies the requirement google-cloud-texttospeach (from versions: none)\u001b[0m\n",
      "\u001b[31mERROR: No matching distribution found for google-cloud-texttospeach\u001b[0m\n"
     ]
    }
   ],
   "source": [
    "!pip3 install --upgrade google-cloud-texttospeach"
   ]
  },
  {
   "cell_type": "code",
   "execution_count": 4,
   "id": "f02f295e-349a-4bde-8f16-4903ff6534b3",
   "metadata": {},
   "outputs": [
    {
     "name": "stdout",
     "output_type": "stream",
     "text": [
      "\u001b[33mDEPRECATION: Configuring installation scheme with distutils config files is deprecated and will no longer work in the near future. If you are using a Homebrew or Linuxbrew Python, please see discussion at https://github.com/Homebrew/homebrew-core/issues/76621\u001b[0m\n",
      "\u001b[31mERROR: Could not find a version that satisfies the requirement google-cloud-texttospeach (from versions: none)\u001b[0m\n",
      "\u001b[31mERROR: No matching distribution found for google-cloud-texttospeach\u001b[0m\n",
      "Note: you may need to restart the kernel to use updated packages.\n"
     ]
    }
   ],
   "source": [
    "pip install --upgrade google-cloud-texttospeach"
   ]
  },
  {
   "cell_type": "code",
   "execution_count": 5,
   "id": "2cd46567-d61b-49e3-8119-c4e2a631e613",
   "metadata": {},
   "outputs": [
    {
     "name": "stdout",
     "output_type": "stream",
     "text": [
      "\u001b[33mDEPRECATION: Configuring installation scheme with distutils config files is deprecated and will no longer work in the near future. If you are using a Homebrew or Linuxbrew Python, please see discussion at https://github.com/Homebrew/homebrew-core/issues/76621\u001b[0m\n",
      "Collecting google-cloud-texttospeech\n",
      "  Downloading google_cloud_texttospeech-2.9.0-py2.py3-none-any.whl (66 kB)\n",
      "     |████████████████████████████████| 66 kB 1.7 MB/s            \n",
      "\u001b[?25hCollecting google-api-core[grpc]<3.0.0dev,>=1.28.0\n",
      "  Downloading google_api_core-2.2.2-py2.py3-none-any.whl (95 kB)\n",
      "     |████████████████████████████████| 95 kB 6.3 MB/s            \n",
      "\u001b[?25hCollecting proto-plus>=1.4.0\n",
      "  Downloading proto_plus-1.19.8-py3-none-any.whl (45 kB)\n",
      "     |████████████████████████████████| 45 kB 7.9 MB/s             \n",
      "\u001b[?25hCollecting googleapis-common-protos<2.0dev,>=1.52.0\n",
      "  Downloading googleapis_common_protos-1.53.0-py2.py3-none-any.whl (198 kB)\n",
      "     |████████████████████████████████| 198 kB 9.4 MB/s            \n",
      "\u001b[?25hCollecting google-auth<3.0dev,>=1.25.0\n",
      "  Downloading google_auth-2.3.3-py2.py3-none-any.whl (155 kB)\n",
      "     |████████████████████████████████| 155 kB 9.6 MB/s            \n",
      "\u001b[?25hRequirement already satisfied: setuptools>=40.3.0 in /opt/homebrew/lib/python3.9/site-packages (from google-api-core[grpc]<3.0.0dev,>=1.28.0->google-cloud-texttospeech) (58.5.3)\n",
      "Requirement already satisfied: requests<3.0.0dev,>=2.18.0 in /opt/homebrew/lib/python3.9/site-packages (from google-api-core[grpc]<3.0.0dev,>=1.28.0->google-cloud-texttospeech) (2.26.0)\n",
      "Requirement already satisfied: protobuf>=3.12.0 in /opt/homebrew/lib/python3.9/site-packages (from google-api-core[grpc]<3.0.0dev,>=1.28.0->google-cloud-texttospeech) (3.19.1)\n",
      "Collecting grpcio<2.0dev,>=1.33.2\n",
      "  Downloading grpcio-1.41.1.tar.gz (21.2 MB)\n",
      "     |████████████████████████████████| 21.2 MB 12.5 MB/s            \n",
      "\u001b[?25h  Preparing metadata (setup.py) ... \u001b[?25ldone\n",
      "\u001b[?25hCollecting grpcio-status<2.0dev,>=1.33.2\n",
      "  Downloading grpcio_status-1.41.1-py3-none-any.whl (9.2 kB)\n",
      "Requirement already satisfied: cachetools<5.0,>=2.0.0 in /opt/homebrew/lib/python3.9/site-packages (from google-auth<3.0dev,>=1.25.0->google-api-core[grpc]<3.0.0dev,>=1.28.0->google-cloud-texttospeech) (4.2.4)\n",
      "Collecting pyasn1-modules>=0.2.1\n",
      "  Downloading pyasn1_modules-0.2.8-py2.py3-none-any.whl (155 kB)\n",
      "     |████████████████████████████████| 155 kB 12.8 MB/s            \n",
      "\u001b[?25hCollecting rsa<5,>=3.1.4\n",
      "  Downloading rsa-4.7.2-py3-none-any.whl (34 kB)\n",
      "Requirement already satisfied: six>=1.9.0 in /opt/homebrew/lib/python3.9/site-packages (from google-auth<3.0dev,>=1.25.0->google-api-core[grpc]<3.0.0dev,>=1.28.0->google-cloud-texttospeech) (1.16.0)\n",
      "Requirement already satisfied: urllib3<1.27,>=1.21.1 in /opt/homebrew/lib/python3.9/site-packages (from requests<3.0.0dev,>=2.18.0->google-api-core[grpc]<3.0.0dev,>=1.28.0->google-cloud-texttospeech) (1.26.7)\n",
      "Requirement already satisfied: charset-normalizer~=2.0.0 in /opt/homebrew/lib/python3.9/site-packages (from requests<3.0.0dev,>=2.18.0->google-api-core[grpc]<3.0.0dev,>=1.28.0->google-cloud-texttospeech) (2.0.7)\n",
      "Requirement already satisfied: idna<4,>=2.5 in /opt/homebrew/lib/python3.9/site-packages (from requests<3.0.0dev,>=2.18.0->google-api-core[grpc]<3.0.0dev,>=1.28.0->google-cloud-texttospeech) (3.3)\n",
      "Requirement already satisfied: certifi>=2017.4.17 in /opt/homebrew/lib/python3.9/site-packages (from requests<3.0.0dev,>=2.18.0->google-api-core[grpc]<3.0.0dev,>=1.28.0->google-cloud-texttospeech) (2021.10.8)\n",
      "Collecting pyasn1<0.5.0,>=0.4.6\n",
      "  Downloading pyasn1-0.4.8-py2.py3-none-any.whl (77 kB)\n",
      "     |████████████████████████████████| 77 kB 6.3 MB/s             \n",
      "\u001b[?25hBuilding wheels for collected packages: grpcio\n",
      "  Building wheel for grpcio (setup.py) ... \u001b[?25ldone\n",
      "\u001b[?25h  Created wheel for grpcio: filename=grpcio-1.41.1-cp39-cp39-macosx_12_0_arm64.whl size=3345792 sha256=c7773f5bae0ddcbc471eff087d9771cdf51d3298a81bb557658b3f0fe55d05b4\n",
      "  Stored in directory: /Users/rin/Library/Caches/pip/wheels/5b/59/3c/c17c0f6f502752a372ebfae25dad1a251f15e50f3aa849f0ee\n",
      "Successfully built grpcio\n",
      "Installing collected packages: pyasn1, rsa, pyasn1-modules, grpcio, googleapis-common-protos, google-auth, grpcio-status, google-api-core, proto-plus, google-cloud-texttospeech\n",
      "\u001b[33m  DEPRECATION: Configuring installation scheme with distutils config files is deprecated and will no longer work in the near future. If you are using a Homebrew or Linuxbrew Python, please see discussion at https://github.com/Homebrew/homebrew-core/issues/76621\u001b[0m\n",
      "\u001b[33m  DEPRECATION: Configuring installation scheme with distutils config files is deprecated and will no longer work in the near future. If you are using a Homebrew or Linuxbrew Python, please see discussion at https://github.com/Homebrew/homebrew-core/issues/76621\u001b[0m\n",
      "\u001b[33m  DEPRECATION: Configuring installation scheme with distutils config files is deprecated and will no longer work in the near future. If you are using a Homebrew or Linuxbrew Python, please see discussion at https://github.com/Homebrew/homebrew-core/issues/76621\u001b[0m\n",
      "\u001b[33m  DEPRECATION: Configuring installation scheme with distutils config files is deprecated and will no longer work in the near future. If you are using a Homebrew or Linuxbrew Python, please see discussion at https://github.com/Homebrew/homebrew-core/issues/76621\u001b[0m\n",
      "\u001b[33m  DEPRECATION: Configuring installation scheme with distutils config files is deprecated and will no longer work in the near future. If you are using a Homebrew or Linuxbrew Python, please see discussion at https://github.com/Homebrew/homebrew-core/issues/76621\u001b[0m\n",
      "\u001b[33m  DEPRECATION: Configuring installation scheme with distutils config files is deprecated and will no longer work in the near future. If you are using a Homebrew or Linuxbrew Python, please see discussion at https://github.com/Homebrew/homebrew-core/issues/76621\u001b[0m\n",
      "\u001b[33m  DEPRECATION: Configuring installation scheme with distutils config files is deprecated and will no longer work in the near future. If you are using a Homebrew or Linuxbrew Python, please see discussion at https://github.com/Homebrew/homebrew-core/issues/76621\u001b[0m\n",
      "\u001b[33m  DEPRECATION: Configuring installation scheme with distutils config files is deprecated and will no longer work in the near future. If you are using a Homebrew or Linuxbrew Python, please see discussion at https://github.com/Homebrew/homebrew-core/issues/76621\u001b[0m\n",
      "\u001b[33m  DEPRECATION: Configuring installation scheme with distutils config files is deprecated and will no longer work in the near future. If you are using a Homebrew or Linuxbrew Python, please see discussion at https://github.com/Homebrew/homebrew-core/issues/76621\u001b[0m\n",
      "\u001b[33mDEPRECATION: Configuring installation scheme with distutils config files is deprecated and will no longer work in the near future. If you are using a Homebrew or Linuxbrew Python, please see discussion at https://github.com/Homebrew/homebrew-core/issues/76621\u001b[0m\n",
      "Successfully installed google-api-core-2.2.2 google-auth-2.3.3 google-cloud-texttospeech-2.9.0 googleapis-common-protos-1.53.0 grpcio-1.41.1 grpcio-status-1.41.1 proto-plus-1.19.8 pyasn1-0.4.8 pyasn1-modules-0.2.8 rsa-4.7.2\n",
      "Note: you may need to restart the kernel to use updated packages.\n"
     ]
    }
   ],
   "source": [
    "pip install --upgrade google-cloud-texttospeech"
   ]
  },
  {
   "cell_type": "code",
   "execution_count": 12,
   "id": "bad81bf1-a317-46a1-8c2d-163b9c81cfcd",
   "metadata": {},
   "outputs": [],
   "source": [
    "from google.cloud import texttospeech\n",
    "\n",
    "client = texttospeech.TextToSpeechClient()\n",
    "\n",
    "synthesis_input = texttospeech.SynthesisInput(text=\"こんにちは。私の名前はrinです。\")\n",
    "\n",
    "voice = texttospeech.VoiceSelectionParams(\n",
    "    language_code=\"ja-JP\", ssml_gender=texttospeech.SsmlVoiceGender.FEMALE\n",
    ")\n",
    "\n",
    "audio_config = texttospeech.AudioConfig(\n",
    "    audio_encoding=texttospeech.AudioEncoding.MP3\n",
    ")\n",
    "\n",
    "response = client.synthesize_speech(\n",
    "    input=synthesis_input, voice=voice, audio_config=audio_config\n",
    ")\n",
    "\n",
    "#filename = \"output.mp3\"\n",
    "#with open(filename, \"wb\") as out:\n",
    "    #out.write(response.audio_content)\n",
    "    #print(f'音声データは{filename}ファイルに書き出しました')"
   ]
  },
  {
   "cell_type": "code",
   "execution_count": 13,
   "id": "e9a40ac8-e7c3-40e1-8d79-e79bbd8ad42e",
   "metadata": {},
   "outputs": [
    {
     "data": {
      "text/html": [
       "\n",
       "                <audio  controls=\"controls\" >\n",
       "                    <source src=\"data:audio/wav;base64,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\" type=\"audio/wav\" />\n",
       "                    Your browser does not support the audio element.\n",
       "                </audio>\n",
       "              "
      ],
      "text/plain": [
       "<IPython.lib.display.Audio object>"
      ]
     },
     "execution_count": 13,
     "metadata": {},
     "output_type": "execute_result"
    }
   ],
   "source": [
    "from IPython.display import Audio\n",
    "Audio(response.audio_content)"
   ]
  },
  {
   "cell_type": "code",
   "execution_count": 23,
   "id": "49e38e07-cc3e-4e05-9a70-a57dbaf96477",
   "metadata": {},
   "outputs": [],
   "source": [
    "import os\n",
    "os.environ['GOOGLE_APPLICATION_CREDENTIALS'] = 'secret.json'\n",
    "from google.cloud import texttospeech\n",
    "from IPython.display import Audio\n",
    "\n",
    "def synthesize_speech(text, lang='日本語', gender='default'):\n",
    "    gender_type = {\n",
    "        'default' : texttospeech.SsmlVoiceGender.SSML_VOICE_GENDER_UNSPECIFIED,\n",
    "        'male' : texttospeech.SsmlVoiceGender.MALE,\n",
    "        'female' : texttospeech.SsmlVoiceGender.FEMALE,\n",
    "        'neutral' : texttospeech.SsmlVoiceGender.NEUTRAL\n",
    "    }\n",
    "    lang_code = {\n",
    "        '英語' : 'en-US',\n",
    "        '日本語' : 'ja-JP'\n",
    "    }\n",
    "    \n",
    "    client = texttospeech.TextToSpeechClient()client = texttospeech.TextToSpeechClient()\n",
    "\n",
    "    synthesis_input = texttospeech.SynthesisInput(text=text)\n",
    "\n",
    "    voice = texttospeech.VoiceSelectionParams(\n",
    "        language_code=lang_code[lang], ssml_gender=gender_type[gender]\n",
    "    )\n",
    "\n",
    "    audio_config = texttospeech.AudioConfig(\n",
    "        audio_encoding=texttospeech.AudioEncoding.MP3\n",
    "    )\n",
    "\n",
    "    response = client.synthesize_speech(\n",
    "        input=synthesis_input, voice=voice, audio_config=audio_config\n",
    "    )\n",
    "    return response"
   ]
  },
  {
   "cell_type": "code",
   "execution_count": null,
   "id": "d2da8051-3ad4-4a8c-910d-a976b76c35db",
   "metadata": {},
   "outputs": [],
   "source": []
  },
  {
   "cell_type": "code",
   "execution_count": 25,
   "id": "0b4d7272-298c-432e-961d-1fb613b532f6",
   "metadata": {},
   "outputs": [
    {
     "data": {
      "text/html": [
       "\n",
       "                <audio  controls=\"controls\" >\n",
       "                    <source src=\"data:audio/wav;base64,//NExAAAAANIAUAAAPHRt4SAh5IHH5TMyX/wc4TwgA7P/J7heyXN//xGx5mhLuh//n0SXQQNByf//om5u8lDM3Kf///5IGi0jQ3h////g+XAiqFHFfJV5lQmkiCibYpB//NExFMRGlqIAYdoAPEiUOtgLmJyvGQeoeDqVqjT52psvaIL40lwSSIMgXBhW1o/3RLGxBBaGkyWBnkvm0Rzkw7tp2108OkS9Hasi1dw3pmxWlsiSpUvjtiar0xNHl3T//NExGEhUlLIAYl4ABaWSaZrcLT0arZbLsOo1/Hk////jt9Ytv///By7w//Wz9P8wir/gE+/VHF01EyJ9uJQ9h4WeQIBIg7Jisgixe9g8maEwuEogk4gNCYEYIHBWgWr//NExC4XEcLMActgAZZe0fX+16UrXNp22y9+csyvqngRpDVRGprdvPndzZazrTalIrQXDg6pgTgkOVzq9Ylh9snBvmbtZFCbl4rlSj0l7vOiTmV7A4Qk8dTCzzMKdWVp//NExCQaafLIAGvSmYGVOltT6cVBvFuUaBLnClcJF0jB5lFKGtdz0lE5LwZTisKTA+EwXGCcVFDJtWZ6LS7CfXtqaKEacm6jZfYyvyg3jgsGK534yBDL6iBAYFhqjERy//NExA0U8crUAFQSlTjN8olQvvWiXTBtbovWiiya5eRLqdcQhY2LCcgFDCFaSCUqZ1jwpeE2lqi5pBBFaBNpeU4tVr78L8PGvG93FyBZxOwmYTPt+5ICV6bCbAnc6iIB//NExAwVWc7MAGlSlBwGXSUb5jL5Spq5jX4VtRqk0MSEy0jSIhUaCo0ZE4kFjyJCjcZEq44bGCxMbMqLGU09fHXSrGJQfKmkeJ4woBA3a8epSv////Hq/MgkR5TUiKC0//NExAkTSdrIAGnSmIF38eLt6m/o/6fq3+pRndoUKFJOazVLgiKgQMM9UiTokWJhUJhCMm9neIk1kc9krBHBjaWRmFzb2ueX3P////0R45r01f1gkrMG6wUt5okk//6t//NExA4S4dbAAIHSmPr/VP//lsIfyRPQS84lkYcBN9QjFCUTFa8CoIoBOQEkHXBEy3WMqkSNAmToy7KQJ1hIeILP///0JKrBcMDF/cckBkK6PRHgdCz6BYff9f0f/7n///NExBUSkdK8AIHSlP/uf//26f90qKQovuVoVFSMkz00m4QkB6VsrNLtZPbjFXMR61tyRBo/ULf////FxKAQicYFVf0wKQCYlJOrWMcu/oEz//nvX+r8yYik6kBw0ec8//NExB0Sow68AGnOufUTCoqBwBQ+dMPc0bEihkmRUcEpzluzHHd1zlY66Icd0bX6f////////+ahKWX9ABYUx/xoaj9xouMZrUHHOerhx7HQ0uMrY+k+4knEKAYR/W+b//NExCUSsc7AAGlMlIbtvmniGfec58IG1CEX4y2/3+7vYLSEI88cKmoYHj6P///9SShN+m4QRGU/8P2d9zk0Jze54yPbcwCGUWTZiiGnAAYi7giy1R02a8Zm1s31+2T9//NExC0SWcrEAGmMlPaBhAvYLPv++VqNY9zrlFpRdkwbPiYcPHQmtPHq/NA0BAc/Uxo+9vW6/dtNPtFvwIIhEyuWQAqgYP7M2vj411t98bf/e9/WO6/fdBzrMe/5fd7S//NExDYSGbrMAFGMlJzFrg4WQ54NAQKqxVrp7////TX+oJuafSD8Rlv1QV8p1cvB2CwPVomQ7ikFvG97pCQBBaF9DFP9HI34mfuyGABisjGOT/9BIo8BrYBie8p7//////NExEAQobrMAGtKlPshBf8FMPfMASFIPrMGBGFtM0bJUQWGZalrEdiCA7nSRaZizx2t6iYkb5x4r9RNH84TBgFHMrkDgqHn8hP1FAiEg3vIIuyQdSoMO////5AcVf0g//NExFATcd7EAGwKmJIANFBPTcwAKsdhgbOumA/wWlUydkxrgSk8vOEwK4AWpOtW1Yrgt35pL6qPP9RQX9RoDwC1mueKCaP8u3zBSNjjlMmMDrvnjz+eePf/+np/iw6w//NExFUVaha4AGyOmGL6aIV4gMSxbXMQ8gmTTBlexKvpR8mTSkj1mN0elGyPIzKojdLC3OWaY29ApBb5jf1b0KVnvZ1Ejs65kN8pf6fMYws3Xut/////lq3d6zbAZ3h5//NExFISgdKsAIvKlIErturJn0HEq9mpd+UfYdD0lKQIQFPNZyMRDJ5CsiQOCxMng9CGaYp0MnQABVHtmrtps+FArK///zizKadfI9azlEBuMSwGooHGMKd1+2vM+XQB//NExFsRuLaEAM4STAnadKRFbUYHFEAYmjvItoECHXL8jNsN47vunplKdKQpYUd3CFEQQLYMAQY68m6hIyJweBAMOJxO9b1o7+zfuv09usPz6e//fdFZBjQhxAyyIcl8//NExGcWQU6MAMpGlGeM8EJcIL2sv6qUgo1nGfHy2mSP9n36tzsnIsajxDexC2i6ISq4lcWtan9a1hN7JAtbaKhWO8mQ5IpKA/gHidQdxuZGYeDRkbmuWfEbmuZMMtrT//NExGEiOw6UANPWucTB0Ds0XW3ZxLHqJts/V0////////////+q4j/vhlHLWekfs5KairB/ZMkQe4EZIpZYCEiCyoiZmaFp1hbULMJ9BxGIsj7h7IXMMpVAyLYCqyfQ//NExCscEwqcAKTauV7mRE3+Uhm39MfRL36nElCYENlOyBJBezdfUkR+9RkPPvUO4JuX61WnU+yyRHI/////6m/SQ+p0OyjhuUGeamJqPUeZZWp/UmGOAikkON9ZkJtA//NExA0UOw6sAKRUuMoCJE4TiORQF4efUswEWZ+s4HKtbsANDS3lD+Qz+IBPSBs5W1UVRPV/F7/jF/xJGyMvUn+pELf//////X+v6i99c80vf1LCBARaZFtS0DMNwB95//NExA8V4w6wAJRUuZKJM3UsS4OhOLs8yD5zb5mF10q0WQcD7Ldr1kP/kXb0j4t9QoRyptlcD675Uv+Vf8YiENfRip2i2UQ38////6f0/p/Unv5EXlV/rCQCCy30RzgR//NExAoUqw64AJzUuNiSM3dNhSYKzLaFdRKiUn+aBexF1psowAKQb1u+TH8nX+gl/xUHOrlRgEZr1ypf8r9kNDRX0mklNDGEyd8z////+/9P5j/mF0p/waBvY/4OMJ0j//NExAoTqg7AAGtamEWoAEMDIX0SQHaDIn1qDYGKlfcHAE3U19Bf1F8lv1Fx/TL49n9jodj7dBjB/196Z8Y5R0K0zM12ppnyi9Rt3//d/fz0ZfyMJRN8YITH9NVukAjq//NExA4REcLQAFPElBPvTV0gQVx3/4CcR1r33SQ6CTAR8hAhvRTfnQ3q5bc4YKAjc5lbz/0KCNUASNSjrgIr////+tX/ysFwyezOnHgnH0on8bLifocXYnLO5TdPRVeF//NExBwRgV7EAFvKlBr5ncFdPXLmzKKZPAzI4sQtNRj/3VuitXcjh0jQOCQaxbiGEnhJws/mqd69rh+hIUafytfEyAGG4CUhkuqYlY/AFJA7bHmF0s58VULYVPNLCoVH//NExCkQ6NacAHsScEEZ41G6kqo0HZGe7ywGQJREoOi7uS7MqR/xKobL5nxOW871SdouKpiHU/JJ4JTtrF4dwak0hEsDzRkzjLV1rZitW1q7VtrHTFE1KZWVlapjP/0m//NExDgSeVJkAHsElHwomYJX/rdy354l///WdWEn1y8mq+yvASRYjJbW2Ljx5H17cZ1hOFNEsFltG/789GjZnGYl5ROlTg1JBpw1K3Lr4lcCpVT2b+hSGMYCqD32//////NExEEQkMo8AHsMcPpVKjWgxXKURhubZotTcwsWqb7VbXLFLTbzwy/E7TTp8Zu/69kvhAiTeiSNvMQ/RaOSmhiG0XbFaFIatq3ma3OrrsuSTurs/+l5eLgYlDuZocB4//NExFERwMosAVgwAABEZFDQY8SziZkubjmEpCf+MIIwMge4exGgtpP+S7oGBoLg8w5IXoPP9NMl0zcKoSYgQcoLiOf+SiCBumnEvE8J5OHuOwx/63oNW6a0EC1E3JpL//NExF0ggyJ8AZJoARO//9/W86blp5Ty+bnlGv//qat0036afKZqXi6XjY1Pl48fNQvLXatW9LzfRSto5mWwDFByYJQv5c7eaKnHZx/GmMgp1spZgJg9FnQE8LyTosiP//NExC4eKxKoAdloAOJ0SqSzU+YATQZKbLQJMQMONBaKpUJQU0jFjY6E3ECGQmxgw7xz0q6RonVatXemZpVsmXGQbqYkz6qLpoJsv///////7rTayrKPOvqEOIAZpnmU//NExAgUQg7AAGtUmD6BFBuq7hMy36BCf1mbes2R9ZfR+MwvjiJ6BICERRfx4TI/GYrD0emIgLgXJjr2OO6nKb7/jw1Tepk1MjJwEHVO////KERcJh77k6DwFRBS1FkE//NExAoUaxK4AJtUuU0q+4LYL7eMxH+iR/rI31mj+tAb0L0Akw9XX4qv6BWJN5QB4FBpiuyklOpI3zPVB+Y1Z4xMfOkI6zzqH////////1MfRDSIjfUdEUDkTBA+fqCk//NExAsVExq4AINOvN1nAFUrfH4W/1Fz82b5Ef2TFNaCnNSSAijzdYzMj5kNjIzqKgASR7H1FL0tkPz9GU0Ch6Nc0HpdbnRFLr////////6ak9mU0YqV+iVgestrXoBQ//NExAkS6xa4AJtUuCv2EaHR/ULb6Zd/JH1IFSta4hykpFFTD+Hk16IJ7epMNdqAuARF1fUo/uRt7mP8XG+ao+fWhZ////////6fVzujEDp/RBNwqxE0yixmIkRx3wBo//NExBASMWK0AJKOlJvlRBDb0JTuwrisTPQqJhWNTegjA6PbuIpH0dW1OHRJbsIwPiWJXSrKRmp7KwVxEe////4KnVkYcs/5lZe8HOh935PT1soOHX7z+1GR2h4zAqjX//NExBoRoxqcAMqEvJgqHpqRgTi4uitMd1RpOa3U75ltbt1s//+nUxWb///v//////X2m6f/9MYQes9Y1nhMGnOSqEhVXc2hgCUiimtNWuszPl1S3QKZx3smisFOAghF//NExCYQyN6gANSMcCmZiLysVTjrFJ9yUFioH/sA4ZR////+9znf8kcGVbX6rjgR8Cqjh20/6ZZslL2t0hABgTXX8fc0ZKFkTaNt27SBUsbRk7TLMcCWDuby0i8///n2//NExDUSoUqgAMpGlKKkGBFgB/Y49////+KJGGEJ/WCDARXL/mAZgCjmbTsTUYCCpmddNoQGXcv8zjC1qzCxOs9uXciYOE57G2viZhbIdiKcUUq7dPTuyHlM7mBiv/71//NExD0SEaKgAMsElMWW/////uo/6QyIVctyuGycb8W6FYMeFB+UAIYxPHWFj/zy5ruYntqEOdyxcPUIB0FwjeObRGaKMaLT////qOCHNzDiaF/1EhP/////r3f1uhyh//NExEcRgVKgAVhAABexZRrgtzGgh1N90cSBUauIHzTAdIrKXGW5ixfHKIObDSOIkWNBjjBCFPBwjgQBbhzk9RHA8hNB2F8cQVMdCaakkFMMoxJpWQzySTGRKGV3WYO7//NExFQhsqqMAZloACzpJEoMGPEtaZGY4JaukUikREn3MTv8vE/q0kTiX3T/7rTb/qX/+im5z59XB5tZfmtYCepRugXQDUA5BUiGj0occwtwOYFUIcXJmfPVarWV7Wr1//NExCAQMVJsAc8YAOtQEBAVUvvGY9WZmPqqzMzMf///YzH0tgoCJDSviYGgaeqk2ShYbFg0IhskHhScbJVkFKTA0FAIMYVQSJA0JAKxyxUBNHICpkJEW0tARIKs/sAR//NExDIPqH3MAEpGSBATeqvUgKf7P//+MIpMQU1FMy4xMDCqqqqqqqqqqqqqqqqqqqqqqqqqqqqqqqqqqqqqqqqqqqqqqqqqqqqqqqqqqqqqqqqqqqqqqqqqTEFNRTMu//NExEYAAANIAAAAADEwMKqqqqqqqqqqqqqqqqqqqqqqqqqqqqqqqqqqqqqqqqqqqqqqqqqqqqqqqqqqqqqqqqqqqqqqqqqqqqqqqqqqqqqqqqqqqqqqqqqqTEFNRTMu//NExJkAAANIAAAAADEwMKqqqqqqqqqqqqqqqqqqqqqqqqqqqqqqqqqqqqqqqqqqqqqqqqqqqqqqqqqqqqqqqqqqqqqqqqqqqqqqqqqqqqqqqqqqqqqqqqqqTEFNRTMu//NExKwAAANIAAAAADEwMKqqqqqqqqqqqqqqqqqqqqqqqqqqqqqqqqqqqqqqqqqqqqqqqqqqqqqqqqqqqqqqqqqqqqqqqqqqqqqqqqqqqqqqqqqqqqqqqqqqTEFNRTMu//NExKwAAANIAAAAADEwMKqqqqqqqqqqqqqqqqqqqqqqqqqqqqqqqqqqqqqqqqqqqqqqqqqqqqqqqqqqqqqqqqqqqqqqqqqqqqqqqqqqqqqqqqqqqqqqqqqqTEFNRTMu//NExKwAAANIAAAAADEwMKqqqqqqqqqqqqqqqqqqqqqqqqqqqqqqqqqqqqqqqqqqqqqqqqqqqqqqqqqqqqqqqqqqqqqqqqqqqqqqqqqqqqqqqqqqqqqqqqqqTEFNRTMu//NExKwAAANIAAAAADEwMKqqqqqqqqqqqqqqqqqqqqqqqqqqqqqqqqqqqqqqqqqqqqqqqqqqqqqqqqqqqqqqqqqqqqqqqqqqqqqqqqqqqqqqqqqqqqqqqqqqqqqqqqqq//NExKwAAANIAAAAAKqqqqqqqqqqqqqqqqqqqqqqqqqqqqqqqqqqqqqqqqqqqqqqqqqqqqqqqqqqqqqqqqqqqqqqqqqqqqqqqqqqqqqqqqqqqqqqqqqqqqqqqqqqqqqq//NExKwAAANIAAAAAKqqqqqqqqqqqqqqqqqqqqqqqqqqqqqqqqqqqqqqqqqqqqqqqqqqqqqqqqqqqqqqqqqqqqqqqqqqqqqqqqqqqqqqqqqqqqqqqqqqqqqqqqqqqqqq\" type=\"audio/wav\" />\n",
       "                    Your browser does not support the audio element.\n",
       "                </audio>\n",
       "              "
      ],
      "text/plain": [
       "<IPython.lib.display.Audio object>"
      ]
     },
     "execution_count": 25,
     "metadata": {},
     "output_type": "execute_result"
    }
   ],
   "source": [
    "lang='英語'\n",
    "gender = 'woman'\n",
    "text = \"I have a pen.\"\n",
    "\n",
    "response = synthesize_speech(text, gender='female')\n",
    "    \n",
    "Audio(response.audio_content)"
   ]
  },
  {
   "cell_type": "code",
   "execution_count": null,
   "id": "dce59b61-b831-45a4-98c4-4ff38ce71f61",
   "metadata": {},
   "outputs": [],
   "source": []
  },
  {
   "cell_type": "code",
   "execution_count": null,
   "id": "0940b486-92f8-4665-97b9-def59e1a1257",
   "metadata": {},
   "outputs": [],
   "source": []
  },
  {
   "cell_type": "code",
   "execution_count": null,
   "id": "b994923e-5ee9-434a-b0a7-ec0668daf48c",
   "metadata": {},
   "outputs": [],
   "source": []
  },
  {
   "cell_type": "code",
   "execution_count": null,
   "id": "df18e092-73b9-45af-8235-5bc0fac90b82",
   "metadata": {},
   "outputs": [],
   "source": []
  },
  {
   "cell_type": "code",
   "execution_count": null,
   "id": "908b760e-b1ec-4d8e-9cfa-f4846a95fe24",
   "metadata": {},
   "outputs": [],
   "source": []
  },
  {
   "cell_type": "code",
   "execution_count": null,
   "id": "3da406b2-1261-489b-b159-0bb75d8c8926",
   "metadata": {},
   "outputs": [],
   "source": []
  },
  {
   "cell_type": "code",
   "execution_count": null,
   "id": "7080b49c-e745-4560-ab86-a10189f0f302",
   "metadata": {},
   "outputs": [],
   "source": []
  },
  {
   "cell_type": "code",
   "execution_count": null,
   "id": "7f1395fd-8e33-4e69-878b-39cbdbfef0af",
   "metadata": {},
   "outputs": [],
   "source": []
  },
  {
   "cell_type": "code",
   "execution_count": null,
   "id": "d64aa1a7-2033-4f7b-aadb-00b8810727c6",
   "metadata": {},
   "outputs": [],
   "source": []
  },
  {
   "cell_type": "code",
   "execution_count": null,
   "id": "132390d7-2da0-4771-aaf6-b2c148b116f5",
   "metadata": {},
   "outputs": [],
   "source": []
  },
  {
   "cell_type": "code",
   "execution_count": null,
   "id": "41cfab78-7ed0-4517-a162-014bedeb6f92",
   "metadata": {},
   "outputs": [],
   "source": []
  },
  {
   "cell_type": "code",
   "execution_count": null,
   "id": "ff488709-d383-48a3-ae52-17a069a29dc8",
   "metadata": {},
   "outputs": [],
   "source": []
  },
  {
   "cell_type": "code",
   "execution_count": null,
   "id": "4f8218b8-b38f-4ac7-81c2-f47fef7eedea",
   "metadata": {},
   "outputs": [],
   "source": []
  },
  {
   "cell_type": "code",
   "execution_count": null,
   "id": "cfb9410f-2e0a-4828-a7d3-c06960cbe5a0",
   "metadata": {},
   "outputs": [],
   "source": []
  },
  {
   "cell_type": "code",
   "execution_count": null,
   "id": "36e52382-c5fc-4dc2-979d-8e4d6cce0301",
   "metadata": {},
   "outputs": [],
   "source": []
  },
  {
   "cell_type": "code",
   "execution_count": null,
   "id": "61738989-7ed8-4529-ab38-c930f4d16b23",
   "metadata": {},
   "outputs": [],
   "source": []
  },
  {
   "cell_type": "code",
   "execution_count": null,
   "id": "0d549b4e-38f6-45e8-972a-7f8c17ca2725",
   "metadata": {},
   "outputs": [],
   "source": []
  },
  {
   "cell_type": "code",
   "execution_count": null,
   "id": "3d79fb75-eb93-46c2-bcf2-052d7579d921",
   "metadata": {},
   "outputs": [],
   "source": []
  },
  {
   "cell_type": "code",
   "execution_count": null,
   "id": "4b55d93e-ffde-48b3-bcc1-90bf45ae54e1",
   "metadata": {},
   "outputs": [],
   "source": []
  },
  {
   "cell_type": "code",
   "execution_count": null,
   "id": "354b418b-41d7-42b6-bbbe-9b38e4f84b47",
   "metadata": {},
   "outputs": [],
   "source": []
  },
  {
   "cell_type": "code",
   "execution_count": null,
   "id": "fc4a039f-b6fc-44b6-86f6-4315705b237d",
   "metadata": {},
   "outputs": [],
   "source": []
  },
  {
   "cell_type": "code",
   "execution_count": null,
   "id": "b5711568-abb8-4471-bd5d-6e6b30afd9df",
   "metadata": {},
   "outputs": [],
   "source": []
  },
  {
   "cell_type": "code",
   "execution_count": null,
   "id": "7d63c731-4301-41d0-8035-09c484274dd3",
   "metadata": {},
   "outputs": [],
   "source": []
  },
  {
   "cell_type": "code",
   "execution_count": null,
   "id": "de44ab73-a0e4-4373-b677-06a8248df1e1",
   "metadata": {},
   "outputs": [],
   "source": []
  }
 ],
 "metadata": {
  "kernelspec": {
   "display_name": "Python 3 (ipykernel)",
   "language": "python",
   "name": "python3"
  },
  "language_info": {
   "codemirror_mode": {
    "name": "ipython",
    "version": 3
   },
   "file_extension": ".py",
   "mimetype": "text/x-python",
   "name": "python",
   "nbconvert_exporter": "python",
   "pygments_lexer": "ipython3",
   "version": "3.9.8"
  }
 },
 "nbformat": 4,
 "nbformat_minor": 5
}
